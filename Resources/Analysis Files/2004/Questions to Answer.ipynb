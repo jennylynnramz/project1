{
 "cells": [
  {
   "cell_type": "markdown",
   "metadata": {},
   "source": [
    "Questions to answer:\n",
    "\n",
    "Per Year:\n",
    "    1. What is the overall average voter turnout between 2000 - 2016, per county, then per state\n",
    "    2. Which counties have the highest / lowest average voter turnout?\n",
    "    3. voter turnout vs population\n",
    "    4. What is the avg population of the county compared to the voters on election day\n",
    "        5. Are there any outliers?\n",
    "     \n",
    "\n",
    "\n",
    "\n",
    "Overall:\n",
    "    1. How consistent is voter turnout based on the party voted for? (i.e. how consistent are the averages for democrat, republican year to year?)\n",
    "    2. Voter turnout for all the counties within the U.S during 2000 ~2016 election years.\n",
    "    3. Create a year to year graph of voter turnout vs population\n",
    "    4. Which counties are the most/least consistent in their turnout?\n",
    "\n",
    "\n"
   ]
  },
  {
   "cell_type": "code",
   "execution_count": null,
   "metadata": {},
   "outputs": [],
   "source": []
  }
 ],
 "metadata": {
  "kernelspec": {
   "display_name": "Python [conda env:PythonData]",
   "language": "python",
   "name": "conda-env-PythonData-py"
  },
  "language_info": {
   "codemirror_mode": {
    "name": "ipython",
    "version": 3
   },
   "file_extension": ".py",
   "mimetype": "text/x-python",
   "name": "python",
   "nbconvert_exporter": "python",
   "pygments_lexer": "ipython3",
   "version": "3.8.2"
  }
 },
 "nbformat": 4,
 "nbformat_minor": 4
}
