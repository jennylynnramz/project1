{
 "cells": [
  {
   "cell_type": "code",
   "execution_count": 17,
   "metadata": {},
   "outputs": [],
   "source": [
    "\n",
    "%matplotlib inline\n",
    "import matplotlib.pyplot as plt\n",
    "import pandas as pd\n",
    "import scipy.stats as st\n",
    "import numpy as np\n",
    "from scipy.stats import sem\n",
    "from scipy.stats import linregress\n",
    "from pprint import pprint\n",
    "\n",
    "\n",
    "county_data_file = \"Resources/countypres_2000-2016.csv\""
   ]
  },
  {
   "cell_type": "code",
   "execution_count": 18,
   "metadata": {},
   "outputs": [
    {
     "data": {
      "text/html": [
       "<div>\n",
       "<style scoped>\n",
       "    .dataframe tbody tr th:only-of-type {\n",
       "        vertical-align: middle;\n",
       "    }\n",
       "\n",
       "    .dataframe tbody tr th {\n",
       "        vertical-align: top;\n",
       "    }\n",
       "\n",
       "    .dataframe thead th {\n",
       "        text-align: right;\n",
       "    }\n",
       "</style>\n",
       "<table border=\"1\" class=\"dataframe\">\n",
       "  <thead>\n",
       "    <tr style=\"text-align: right;\">\n",
       "      <th></th>\n",
       "      <th>year</th>\n",
       "      <th>state</th>\n",
       "      <th>state_po</th>\n",
       "      <th>county</th>\n",
       "      <th>FIPS</th>\n",
       "      <th>office</th>\n",
       "      <th>candidate</th>\n",
       "      <th>party</th>\n",
       "      <th>candidatevotes</th>\n",
       "      <th>totalvotes</th>\n",
       "      <th>version</th>\n",
       "    </tr>\n",
       "  </thead>\n",
       "  <tbody>\n",
       "    <tr>\n",
       "      <th>0</th>\n",
       "      <td>2000</td>\n",
       "      <td>Alabama</td>\n",
       "      <td>AL</td>\n",
       "      <td>Autauga</td>\n",
       "      <td>1001.0</td>\n",
       "      <td>President</td>\n",
       "      <td>Al Gore</td>\n",
       "      <td>democrat</td>\n",
       "      <td>4942.0</td>\n",
       "      <td>17208</td>\n",
       "      <td>20191203</td>\n",
       "    </tr>\n",
       "    <tr>\n",
       "      <th>1</th>\n",
       "      <td>2000</td>\n",
       "      <td>Alabama</td>\n",
       "      <td>AL</td>\n",
       "      <td>Autauga</td>\n",
       "      <td>1001.0</td>\n",
       "      <td>President</td>\n",
       "      <td>George W. Bush</td>\n",
       "      <td>republican</td>\n",
       "      <td>11993.0</td>\n",
       "      <td>17208</td>\n",
       "      <td>20191203</td>\n",
       "    </tr>\n",
       "    <tr>\n",
       "      <th>2</th>\n",
       "      <td>2000</td>\n",
       "      <td>Alabama</td>\n",
       "      <td>AL</td>\n",
       "      <td>Autauga</td>\n",
       "      <td>1001.0</td>\n",
       "      <td>President</td>\n",
       "      <td>Ralph Nader</td>\n",
       "      <td>green</td>\n",
       "      <td>160.0</td>\n",
       "      <td>17208</td>\n",
       "      <td>20191203</td>\n",
       "    </tr>\n",
       "    <tr>\n",
       "      <th>3</th>\n",
       "      <td>2000</td>\n",
       "      <td>Alabama</td>\n",
       "      <td>AL</td>\n",
       "      <td>Autauga</td>\n",
       "      <td>1001.0</td>\n",
       "      <td>President</td>\n",
       "      <td>Other</td>\n",
       "      <td>NaN</td>\n",
       "      <td>113.0</td>\n",
       "      <td>17208</td>\n",
       "      <td>20191203</td>\n",
       "    </tr>\n",
       "    <tr>\n",
       "      <th>4</th>\n",
       "      <td>2000</td>\n",
       "      <td>Alabama</td>\n",
       "      <td>AL</td>\n",
       "      <td>Baldwin</td>\n",
       "      <td>1003.0</td>\n",
       "      <td>President</td>\n",
       "      <td>Al Gore</td>\n",
       "      <td>democrat</td>\n",
       "      <td>13997.0</td>\n",
       "      <td>56480</td>\n",
       "      <td>20191203</td>\n",
       "    </tr>\n",
       "  </tbody>\n",
       "</table>\n",
       "</div>"
      ],
      "text/plain": [
       "   year    state state_po   county    FIPS     office       candidate  \\\n",
       "0  2000  Alabama       AL  Autauga  1001.0  President         Al Gore   \n",
       "1  2000  Alabama       AL  Autauga  1001.0  President  George W. Bush   \n",
       "2  2000  Alabama       AL  Autauga  1001.0  President     Ralph Nader   \n",
       "3  2000  Alabama       AL  Autauga  1001.0  President           Other   \n",
       "4  2000  Alabama       AL  Baldwin  1003.0  President         Al Gore   \n",
       "\n",
       "        party  candidatevotes  totalvotes   version  \n",
       "0    democrat          4942.0       17208  20191203  \n",
       "1  republican         11993.0       17208  20191203  \n",
       "2       green           160.0       17208  20191203  \n",
       "3         NaN           113.0       17208  20191203  \n",
       "4    democrat         13997.0       56480  20191203  "
      ]
     },
     "execution_count": 18,
     "metadata": {},
     "output_type": "execute_result"
    }
   ],
   "source": [
    "election_data= pd.read_csv(county_data_file)\n",
    "election_data.head()"
   ]
  },
  {
   "cell_type": "code",
   "execution_count": 24,
   "metadata": {},
   "outputs": [
    {
     "data": {
      "text/plain": [
       "<pandas.core.groupby.generic.SeriesGroupBy object at 0x1a2798e290>"
      ]
     },
     "execution_count": 24,
     "metadata": {},
     "output_type": "execute_result"
    }
   ],
   "source": [
    "votes_by_county = election_data.groupby('county')['totalvotes']\n"
   ]
  },
  {
   "cell_type": "code",
   "execution_count": null,
   "metadata": {},
   "outputs": [],
   "source": []
  }
 ],
 "metadata": {
  "kernelspec": {
   "display_name": "Python [conda env:root] *",
   "language": "python",
   "name": "conda-root-py"
  },
  "language_info": {
   "codemirror_mode": {
    "name": "ipython",
    "version": 3
   },
   "file_extension": ".py",
   "mimetype": "text/x-python",
   "name": "python",
   "nbconvert_exporter": "python",
   "pygments_lexer": "ipython3",
   "version": "3.7.6"
  }
 },
 "nbformat": 4,
 "nbformat_minor": 4
}
